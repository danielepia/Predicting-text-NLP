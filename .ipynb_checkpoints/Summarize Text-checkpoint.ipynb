{
 "cells": [
  {
   "cell_type": "code",
   "execution_count": 1,
   "id": "170374a0",
   "metadata": {},
   "outputs": [],
   "source": [
    "from nltk.corpus import stopwords\n",
    "from nltk.tokenize import word_tokenize, sent_tokenize\n",
    "from collections import Counter\n",
    "import string \n",
    "import numpy as np\n",
    "from newspaper import Article"
   ]
  },
  {
   "cell_type": "code",
   "execution_count": 2,
   "id": "54edcf36",
   "metadata": {},
   "outputs": [],
   "source": [
    "# import nltk\n",
    "# nltk.download('stopwords')\n",
    "# nltk.download('punkt')"
   ]
  },
  {
   "cell_type": "markdown",
   "id": "0b6c7fb4",
   "metadata": {},
   "source": [
    "# Stopwords"
   ]
  },
  {
   "cell_type": "code",
   "execution_count": 3,
   "id": "03e8f8e2",
   "metadata": {},
   "outputs": [
    {
     "name": "stdout",
     "output_type": "stream",
     "text": [
      "['ad', 'al', 'allo', 'ai', 'agli', 'all', 'agl', 'alla', 'alle', 'con', 'col', 'coi', 'da', 'dal', 'dallo', 'dai', 'dagli', 'dall', 'dagl', 'dalla', 'dalle', 'di', 'del', 'dello', 'dei', 'degli', 'dell', 'degl', 'della', 'delle', 'in', 'nel', 'nello', 'nei', 'negli', 'nell', 'negl', 'nella', 'nelle', 'su', 'sul', 'sullo', 'sui', 'sugli', 'sull', 'sugl', 'sulla', 'sulle', 'per', 'tra', 'contro', 'io', 'tu', 'lui', 'lei', 'noi', 'voi', 'loro', 'mio', 'mia', 'miei', 'mie', 'tuo', 'tua', 'tuoi', 'tue', 'suo', 'sua', 'suoi', 'sue', 'nostro', 'nostra', 'nostri', 'nostre', 'vostro', 'vostra', 'vostri', 'vostre', 'mi', 'ti', 'ci', 'vi', 'lo', 'la', 'li', 'le', 'gli', 'ne', 'il', 'un', 'uno', 'una', 'ma', 'ed', 'se', 'perché', 'anche', 'come', 'dov', 'dove', 'che', 'chi', 'cui', 'non', 'più', 'quale', 'quanto', 'quanti', 'quanta', 'quante', 'quello', 'quelli', 'quella', 'quelle', 'questo', 'questi', 'questa', 'queste', 'si', 'tutto', 'tutti', 'a', 'c', 'e', 'i', 'l', 'o', 'ho', 'hai', 'ha', 'abbiamo', 'avete', 'hanno', 'abbia', 'abbiate', 'abbiano', 'avrò', 'avrai', 'avrà', 'avremo', 'avrete', 'avranno', 'avrei', 'avresti', 'avrebbe', 'avremmo', 'avreste', 'avrebbero', 'avevo', 'avevi', 'aveva', 'avevamo', 'avevate', 'avevano', 'ebbi', 'avesti', 'ebbe', 'avemmo', 'aveste', 'ebbero', 'avessi', 'avesse', 'avessimo', 'avessero', 'avendo', 'avuto', 'avuta', 'avuti', 'avute', 'sono', 'sei', 'è', 'siamo', 'siete', 'sia', 'siate', 'siano', 'sarò', 'sarai', 'sarà', 'saremo', 'sarete', 'saranno', 'sarei', 'saresti', 'sarebbe', 'saremmo', 'sareste', 'sarebbero', 'ero', 'eri', 'era', 'eravamo', 'eravate', 'erano', 'fui', 'fosti', 'fu', 'fummo', 'foste', 'furono', 'fossi', 'fosse', 'fossimo', 'fossero', 'essendo', 'faccio', 'fai', 'facciamo', 'fanno', 'faccia', 'facciate', 'facciano', 'farò', 'farai', 'farà', 'faremo', 'farete', 'faranno', 'farei', 'faresti', 'farebbe', 'faremmo', 'fareste', 'farebbero', 'facevo', 'facevi', 'faceva', 'facevamo', 'facevate', 'facevano', 'feci', 'facesti', 'fece', 'facemmo', 'faceste', 'fecero', 'facessi', 'facesse', 'facessimo', 'facessero', 'facendo', 'sto', 'stai', 'sta', 'stiamo', 'stanno', 'stia', 'stiate', 'stiano', 'starò', 'starai', 'starà', 'staremo', 'starete', 'staranno', 'starei', 'staresti', 'starebbe', 'staremmo', 'stareste', 'starebbero', 'stavo', 'stavi', 'stava', 'stavamo', 'stavate', 'stavano', 'stetti', 'stesti', 'stette', 'stemmo', 'steste', 'stettero', 'stessi', 'stesse', 'stessimo', 'stessero', 'stando', '%', '+', '}', '$', '[', '*', '.', '#', ')', ',', ']', '(', ';', '_', '>', '-', '^', '=', '\\\\', '`', '!', \"'\", '|', '?', '{', ':', '\"', '/', '@', '<', '~', '&']\n"
     ]
    }
   ],
   "source": [
    "stopwords = stopwords.words('italian')\n",
    "s =  set(string.punctuation)\n",
    "stopwords.extend(s)\n",
    "print(stopwords)"
   ]
  },
  {
   "cell_type": "code",
   "execution_count": 4,
   "id": "5dc2c7e5",
   "metadata": {},
   "outputs": [],
   "source": [
    "url = \"https://www.rainews.it/articoli/2022/05/draghi-negli-stati-uniti-chiediamoci-come-costruire-la-pace-la-russia-non--pi-golia-0f08a837-8941-4101-9b61-e0935b7109e6.html\"\n",
    " \n",
    "toi_article = Article(url, language=\"in\") # en for English\n",
    " \n",
    "toi_article.download()\n",
    "toi_article.parse()\n",
    "test = toi_article.text"
   ]
  },
  {
   "cell_type": "markdown",
   "id": "11f2e5c4",
   "metadata": {},
   "source": [
    "# Original Test"
   ]
  },
  {
   "cell_type": "code",
   "execution_count": 5,
   "id": "e9ed4cd6",
   "metadata": {},
   "outputs": [
    {
     "name": "stdout",
     "output_type": "stream",
     "text": [
      "Il premier Mario Draghi ha incontrato i giornalisti all’Ambasciata d’Italia a Washington dopo la visita alla Casa Bianca.\n",
      "\n",
      "“L’incontro è andato molto bene, Biden ha ringraziato l’Italia come partner forte, alleato affidabile, interlocutore, credibile e io l’ho ringraziato per il ruolo di leadership in questa crisi e la grande collaborazione che c’è stata con tutti gli alleati”, queste le prime parole del Presidente del Consiglio.\n",
      "\n",
      "Al centro del suo discorso la fine del conflitto in Ucraina. “Bisogna iniziare a chiedersi come costruire la pace, come costruire il percorso negoziale. Il punto fondamentale è che deve essere la pace voluta dall’Ucraina, non imposta da qualcun altro”, ha detto Draghi.\n",
      "\n",
      "Il Presidente del Consiglio ha anche ricordato l’evoluzione del conflitto. “La guerra ha cambiato fisionomia, inizialmente era una guerra in cui si pensava ci fosse un Golia e un Davide, essenzialmente di difesa disperata che sembrava anche non riuscire, oggi il panorama si è completamente capovolto, certamente non c’è più un Golia, certamente quella che sembrava una potenza invincibile sul campo e con armi convenzionale si è dimostrata non invincibile”, ha detto.\n",
      "\n",
      "Per la pace, poi, precisa Draghi “tutte le parti devono fare uno sforzo per arrivare a sedersi intorno ad un tavolo, anche gli Usa”.\n",
      "\n",
      "“All’inizio della guerra in parlamento si diceva in Italia che dovevamo avere un ruolo, io risposi che non bisogna cercare un ruolo, bisogna cercare la pace, chiunque siano le persone coinvolte l’importante è che cerchino la pace, non di affermazioni di parte. Non bisogna cercare di vincere, la vittoria poi non è definita: per l’Ucraina significa respingere l’invasione, ma per gli altri?”, si interroga Draghi.\n",
      "\n",
      "Per quanto riguarda il prossimo G20 Draghi fa sapere di averne parlato con Biden “brevemente, ho presentato la situazione per quel che è, da un lato saremmo tutti tentati di non sederci allo stesso tavolo cui si siede Putin, dall’altro c’è il resto del mondo attorno a quel tavolo, alzarsi significa abbandonare il resto del mondo in una situazione in cui non è presente il G7. Alla luce della necessità di costruire un tavolo di pace bisogna riflettere prima di abbandonare questi consessi”.\n",
      "\n",
      "Sul tavolo con il presidente degli Stati Uniti anche il tema dell’approvvigionamento energetico: “Biden ha espresso l’esigenza di prendere provvedimento per affrontare i prezzi e la disponibilità dell’energia, un problema iniziato prima della guerra”, ha precisato il premier.\n",
      "\n",
      "“Ho anche ricordato a Biden il tema della possibilità di mettere un tetto al prezzo del gas, ipotesi accolta con favore, anche se l’amministrazione Usa sta riflettendo più su un tetto al prezzo del petrolio che sul gas, si è deciso che ne riparleremo presto insieme”, ha aggiunto Draghi.\n",
      "\n",
      "Per quanto riguarda l’Unione Europea, nel mercato dell’energia “le distorsioni sono molto forti in Ue, ora i provvedimenti se si riusciranno a prendere sono in corso di programmazione” ma “in Ue dobbiamo essere d’accordo e come sapete i pareri non sono unanimi ma su questo noi continueremo ad andare avanti”.\n",
      "\n",
      "“Con Joe Biden abbiamo parlato della crisi alimentare provocata dal blocco di grani vari dall’Ucraina perché i porti sono bloccati – ha aggiunto il premier Draghi -. Lavrov ha detto che sono bloccati perché i porti sono minati. Questo può essere un primo esempio di dialogo che si costruisce tra le due parti per salvare decine di milioni di persone”.\n",
      "\n",
      "Sul tema poi il premier, rispondendo a una domanda se nel loro incontro si sia ipotizzata una chiamata dello stesso Biden a Putin per lo sblocco del grano, precisa: “Con Biden abbiamo condiviso l’esigenza di sbloccare i porti ma occorrerà la collaborazione di tutte le parti. Insistere perché si crei questo tavolo di pace significa che i contatti devono essere riavviati a tutti i livelli, bisogna essere capaci non di dimenticare, perché ciò è impossibile, ma di guardare al futuro”.\n",
      "\n",
      "“Credo che la Ue e l’Italia siano preparati all’emergenza umanitaria”, ha detto Draghi, che poi ha precisato che sarebbe più difficile gestire una crisi di profughi legata alla emergenza alimentare.\n",
      "\n",
      "Nel suo discorso alla stampa anche il tema delle energie rinnovabili: “Servono investimenti ‘molto più forti’ sulle rinnovabili per mantenere gli obiettivi di transizione nonostante la crisi energetica, e ‘il governo italiano ha preso numerosi provvedimenti di semplificazione e non avremo esitazione a prenderne altri se non vediamo un aumento degli investimenti nelle rinnovabili che significa anche effettive installazioni”.\n",
      "\n",
      "Il Presidente del Consiglio, rispondendo ad alcune domande dei giornalisti, ha parlato anche di recessione: “Le banche centrali devono aumentare i tassi ma se li aumentano troppo fanno cadere il Paese in recessione ma di questa difficoltà Lagarde è pienamente consapevole. La situazione è molto diversa tra Usa e Ue, in Usa il mercato del lavoro è a pieno impiego, in Europa no, quindi il passo di normalizzazione della politica monetaria sarà necessariamente diverso. Noi come governo possiamo cercare di attenuare la perdita di potere d’acquisto sulle categorie più deboli”.\n",
      "\n",
      "Poi ha precisato: “A oggi non vedo una recessione quest’anno: il motivo è che abbiamo chiuso l’anno scorso molto molto bene e ci portiamo dietro una crescita acquisita. Mi pare molto difficile che quest’anno ci possa essere una recessione. È una situazione di grande incertezza ma non possiamo dire che andrà al peggio per tutta l’economia”.\n",
      "\n",
      "Al termine della conferenza stampa è poi giunta una domanda al premier in cui un cronista gli ha chiesto se gli Stati Uniti siano “ancora una nazione indispensabile”. “Sì, sì”, la risposta di Draghi.\n"
     ]
    }
   ],
   "source": [
    "print(test)"
   ]
  },
  {
   "cell_type": "markdown",
   "id": "9018b240",
   "metadata": {},
   "source": [
    "# Tokenizing words and sentences\n",
    "### We create a dictionary of words with the count of appearence through the text\n",
    "### We use the count of words and create a score for each sentence excluding stopwords"
   ]
  },
  {
   "cell_type": "code",
   "execution_count": 6,
   "id": "bdb34219",
   "metadata": {},
   "outputs": [],
   "source": [
    "word_token = word_tokenize(test)\n",
    "sentence_token = sent_tokenize(test)"
   ]
  },
  {
   "cell_type": "code",
   "execution_count": 7,
   "id": "ec82f678",
   "metadata": {},
   "outputs": [],
   "source": [
    "dict_word = Counter(word_token)"
   ]
  },
  {
   "cell_type": "code",
   "execution_count": 8,
   "id": "3f4a626b",
   "metadata": {},
   "outputs": [],
   "source": [
    "sentence_dict = {}\n",
    "\n",
    "for sentence in sentence_token:\n",
    "    word_val = 0\n",
    "    for word in word_tokenize(sentence):\n",
    "        if word.lower() in stopwords:\n",
    "            pass\n",
    "        else:\n",
    "#             print(word.lower())\n",
    "            word_val += dict_word[word]\n",
    "        sentence_dict[sentence] = word_val\n",
    "            "
   ]
  },
  {
   "cell_type": "markdown",
   "id": "b9757ef5",
   "metadata": {},
   "source": [
    "###  This computes the average score per sentnce"
   ]
  },
  {
   "cell_type": "code",
   "execution_count": 9,
   "id": "6a3f745d",
   "metadata": {},
   "outputs": [],
   "source": [
    "sentence_val = sentence_dict.values()\n",
    "sentence_avg = sum(sentence_val)/len(sentence_val)"
   ]
  },
  {
   "cell_type": "code",
   "execution_count": 10,
   "id": "ea34629e",
   "metadata": {},
   "outputs": [],
   "source": [
    "threshold = 1.5"
   ]
  },
  {
   "cell_type": "markdown",
   "id": "5d40c1eb",
   "metadata": {},
   "source": [
    "# Summary"
   ]
  },
  {
   "cell_type": "code",
   "execution_count": 11,
   "id": "f6f9bee0",
   "metadata": {},
   "outputs": [
    {
     "name": "stdout",
     "output_type": "stream",
     "text": [
      "['“L’incontro è andato molto bene, Biden ha ringraziato l’Italia come partner forte, alleato affidabile, interlocutore, credibile e io l’ho ringraziato per il ruolo di leadership in questa crisi e la grande collaborazione che c’è stata con tutti gli alleati”, queste le prime parole del Presidente del Consiglio.', '“All’inizio della guerra in parlamento si diceva in Italia che dovevamo avere un ruolo, io risposi che non bisogna cercare un ruolo, bisogna cercare la pace, chiunque siano le persone coinvolte l’importante è che cerchino la pace, non di affermazioni di parte.', 'Per quanto riguarda il prossimo G20 Draghi fa sapere di averne parlato con Biden “brevemente, ho presentato la situazione per quel che è, da un lato saremmo tutti tentati di non sederci allo stesso tavolo cui si siede Putin, dall’altro c’è il resto del mondo attorno a quel tavolo, alzarsi significa abbandonare il resto del mondo in una situazione in cui non è presente il G7.', 'Sul tavolo con il presidente degli Stati Uniti anche il tema dell’approvvigionamento energetico: “Biden ha espresso l’esigenza di prendere provvedimento per affrontare i prezzi e la disponibilità dell’energia, un problema iniziato prima della guerra”, ha precisato il premier.', 'Per quanto riguarda l’Unione Europea, nel mercato dell’energia “le distorsioni sono molto forti in Ue, ora i provvedimenti se si riusciranno a prendere sono in corso di programmazione” ma “in Ue dobbiamo essere d’accordo e come sapete i pareri non sono unanimi ma su questo noi continueremo ad andare avanti”.', '“Credo che la Ue e l’Italia siano preparati all’emergenza umanitaria”, ha detto Draghi, che poi ha precisato che sarebbe più difficile gestire una crisi di profughi legata alla emergenza alimentare.']\n"
     ]
    }
   ],
   "source": [
    "summary = []\n",
    "for sentence,value in zip(sentence_dict,sentence_val):\n",
    "    if value >= sentence_avg*threshold:\n",
    "        summary.append(sentence)\n",
    "print(summary)"
   ]
  },
  {
   "cell_type": "code",
   "execution_count": null,
   "id": "e2649627",
   "metadata": {},
   "outputs": [],
   "source": []
  },
  {
   "cell_type": "code",
   "execution_count": null,
   "id": "1d6f3225",
   "metadata": {},
   "outputs": [],
   "source": []
  }
 ],
 "metadata": {
  "kernelspec": {
   "display_name": "Python 3 (ipykernel)",
   "language": "python",
   "name": "python3"
  },
  "language_info": {
   "codemirror_mode": {
    "name": "ipython",
    "version": 3
   },
   "file_extension": ".py",
   "mimetype": "text/x-python",
   "name": "python",
   "nbconvert_exporter": "python",
   "pygments_lexer": "ipython3",
   "version": "3.7.12"
  }
 },
 "nbformat": 4,
 "nbformat_minor": 5
}

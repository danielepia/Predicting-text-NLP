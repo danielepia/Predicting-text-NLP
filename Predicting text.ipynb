{
 "cells": [
  {
   "cell_type": "code",
   "execution_count": 1,
   "id": "b2693768",
   "metadata": {},
   "outputs": [],
   "source": [
    "import numpy as np \n",
    "import matplotlib.pyplot as plt\n",
    "from tensorflow.keras.models import Sequential\n",
    "from tensorflow.keras.utils import to_categorical \n",
    "from tensorflow.keras.preprocessing.text import Tokenizer\n",
    "from tensorflow.keras.preprocessing.sequence import pad_sequences\n",
    "from tensorflow.keras.layers import Embedding, LSTM, Dense, Bidirectional"
   ]
  },
  {
   "cell_type": "code",
   "execution_count": 2,
   "id": "d530e354",
   "metadata": {},
   "outputs": [
    {
     "name": "stdout",
     "output_type": "stream",
     "text": [
      "There are 2159 lines of sonnets\n",
      "\n",
      "The first 5 lines look like this:\n",
      "\n",
      "from fairest creatures we desire increase,\n",
      "that thereby beauty's rose might never die,\n",
      "but as the riper should by time decease,\n",
      "his tender heir might bear his memory:\n",
      "but thou, contracted to thine own bright eyes,\n"
     ]
    }
   ],
   "source": [
    "# Define path for file with sonnets\n",
    "SONNETS_FILE = './sonnets.txt'\n",
    "\n",
    "# Read the data\n",
    "with open('./sonnets.txt') as f:\n",
    "    data = f.read()\n",
    "\n",
    "# Convert to lower case and save as a list\n",
    "corpus = data.lower().split(\"\\n\")\n",
    "\n",
    "print(f\"There are {len(corpus)} lines of sonnets\\n\")\n",
    "print(f\"The first 5 lines look like this:\\n\")\n",
    "for i in range(5):\n",
    "  print(corpus[i])"
   ]
  },
  {
   "cell_type": "code",
   "execution_count": 3,
   "id": "0bf1ddd6",
   "metadata": {},
   "outputs": [],
   "source": [
    "tokenizer = Tokenizer()\n",
    "tokenizer.fit_on_texts(corpus)\n",
    "total_words = len(tokenizer.word_index) + 1"
   ]
  },
  {
   "cell_type": "code",
   "execution_count": 4,
   "id": "dde9c3cc",
   "metadata": {},
   "outputs": [
    {
     "data": {
      "text/plain": [
       "'from fairest creatures we desire increase,'"
      ]
     },
     "execution_count": 4,
     "metadata": {},
     "output_type": "execute_result"
    }
   ],
   "source": [
    "corpus[0]"
   ]
  },
  {
   "cell_type": "code",
   "execution_count": 6,
   "id": "daa7d015",
   "metadata": {},
   "outputs": [
    {
     "data": {
      "text/plain": [
       "[34, 417, 877, 166, 213, 517]"
      ]
     },
     "execution_count": 6,
     "metadata": {},
     "output_type": "execute_result"
    }
   ],
   "source": [
    "tokenizer.texts_to_sequences([corpus[0]])[0]"
   ]
  },
  {
   "cell_type": "markdown",
   "id": "a8233af9",
   "metadata": {},
   "source": [
    "# Generating n_grams"
   ]
  },
  {
   "cell_type": "code",
   "execution_count": 7,
   "id": "ba0ce6ee",
   "metadata": {},
   "outputs": [],
   "source": [
    "# GRADED FUNCTION: n_gram_seqs\n",
    "def n_gram_seqs(corpus, tokenizer):\n",
    "    \"\"\"\n",
    "    Generates a list of n-gram sequences\n",
    "    \n",
    "    Args:\n",
    "        corpus (list of string): lines of texts to generate n-grams for\n",
    "        tokenizer (object): an instance of the Tokenizer class containing the word-index dictionary\n",
    "    \n",
    "    Returns:\n",
    "        input_sequences (list of int): the n-gram sequences for each line in the corpus\n",
    "    \"\"\"\n",
    "    input_sequences = []\n",
    "    \n",
    "    for line in corpus:\n",
    "\n",
    "      # Tokenize the current line\n",
    "      token_list = tokenizer.texts_to_sequences([line])[0]\n",
    "\n",
    "      # Loop over the line several times to generate the subphrases\n",
    "      for i in range(1, len(token_list)):\n",
    "        \n",
    "          # Generate the subphrase\n",
    "          n_gram_sequence = token_list[:i+1]\n",
    "\n",
    "          # Append the subphrase to the sequences list\n",
    "          input_sequences.append(n_gram_sequence)\n",
    "\n",
    "    \n",
    "    return input_sequences"
   ]
  },
  {
   "cell_type": "code",
   "execution_count": 8,
   "id": "ae6573ba",
   "metadata": {},
   "outputs": [
    {
     "name": "stdout",
     "output_type": "stream",
     "text": [
      "n_gram sequences for first example look like this:\n",
      "\n"
     ]
    },
    {
     "data": {
      "text/plain": [
       "[[34, 417],\n",
       " [34, 417, 877],\n",
       " [34, 417, 877, 166],\n",
       " [34, 417, 877, 166, 213],\n",
       " [34, 417, 877, 166, 213, 517]]"
      ]
     },
     "execution_count": 8,
     "metadata": {},
     "output_type": "execute_result"
    }
   ],
   "source": [
    "# Test your function with one example\n",
    "first_example_sequence = n_gram_seqs([corpus[0]], tokenizer)\n",
    "\n",
    "print(\"n_gram sequences for first example look like this:\\n\")\n",
    "first_example_sequence"
   ]
  },
  {
   "cell_type": "code",
   "execution_count": 9,
   "id": "17c45b3d",
   "metadata": {},
   "outputs": [
    {
     "name": "stdout",
     "output_type": "stream",
     "text": [
      "n_gram sequences for next 3 examples look like this:\n",
      "\n"
     ]
    },
    {
     "data": {
      "text/plain": [
       "[[8, 878],\n",
       " [8, 878, 134],\n",
       " [8, 878, 134, 351],\n",
       " [8, 878, 134, 351, 102],\n",
       " [8, 878, 134, 351, 102, 156],\n",
       " [8, 878, 134, 351, 102, 156, 199],\n",
       " [16, 22],\n",
       " [16, 22, 2],\n",
       " [16, 22, 2, 879],\n",
       " [16, 22, 2, 879, 61],\n",
       " [16, 22, 2, 879, 61, 30],\n",
       " [16, 22, 2, 879, 61, 30, 48],\n",
       " [16, 22, 2, 879, 61, 30, 48, 634],\n",
       " [25, 311],\n",
       " [25, 311, 635],\n",
       " [25, 311, 635, 102],\n",
       " [25, 311, 635, 102, 200],\n",
       " [25, 311, 635, 102, 200, 25],\n",
       " [25, 311, 635, 102, 200, 25, 278]]"
      ]
     },
     "execution_count": 9,
     "metadata": {},
     "output_type": "execute_result"
    }
   ],
   "source": [
    "# Test your function with a bigger corpus\n",
    "next_3_examples_sequence = n_gram_seqs(corpus[1:4], tokenizer)\n",
    "\n",
    "print(\"n_gram sequences for next 3 examples look like this:\\n\")\n",
    "next_3_examples_sequence"
   ]
  },
  {
   "cell_type": "code",
   "execution_count": 10,
   "id": "4fcaa038",
   "metadata": {},
   "outputs": [
    {
     "name": "stdout",
     "output_type": "stream",
     "text": [
      "n_grams of input_sequences have length: 15462\n",
      "maximum length of sequences is: 11\n"
     ]
    }
   ],
   "source": [
    "# Apply the n_gram_seqs transformation to the whole corpus\n",
    "input_sequences = n_gram_seqs(corpus, tokenizer)\n",
    "\n",
    "# Save max length \n",
    "max_sequence_len = max([len(x) for x in input_sequences])\n",
    "\n",
    "print(f\"n_grams of input_sequences have length: {len(input_sequences)}\")\n",
    "print(f\"maximum length of sequences is: {max_sequence_len}\")"
   ]
  },
  {
   "cell_type": "markdown",
   "id": "e8f8aa6c",
   "metadata": {},
   "source": [
    "# Add padding to the sequences"
   ]
  },
  {
   "cell_type": "code",
   "execution_count": 11,
   "id": "d54f4ba8",
   "metadata": {},
   "outputs": [],
   "source": [
    "# GRADED FUNCTION: pad_seqs\n",
    "def pad_seqs(input_sequences, maxlen):\n",
    "    \"\"\"\n",
    "    Pads tokenized sequences to the same length\n",
    "    \n",
    "    Args:\n",
    "        input_sequences (list of int): tokenized sequences to pad\n",
    "        maxlen (int): maximum length of the token sequences\n",
    "    \n",
    "    Returns:\n",
    "        padded_sequences (array of int): tokenized sequences padded to the same length\n",
    "    \"\"\"\n",
    "    padded_sequences = np.array(pad_sequences(input_sequences, maxlen=maxlen, padding='pre'))\n",
    "    \n",
    "    return padded_sequences"
   ]
  },
  {
   "cell_type": "code",
   "execution_count": 12,
   "id": "2d0f5e04",
   "metadata": {},
   "outputs": [
    {
     "data": {
      "text/plain": [
       "array([[  0,   0,   0,  34, 417],\n",
       "       [  0,   0,  34, 417, 877],\n",
       "       [  0,  34, 417, 877, 166],\n",
       "       [ 34, 417, 877, 166, 213],\n",
       "       [417, 877, 166, 213, 517]])"
      ]
     },
     "execution_count": 12,
     "metadata": {},
     "output_type": "execute_result"
    }
   ],
   "source": [
    "# Test your function with the n_grams_seq of the first example\n",
    "first_padded_seq = pad_seqs(first_example_sequence, len(first_example_sequence))\n",
    "first_padded_seq"
   ]
  },
  {
   "cell_type": "code",
   "execution_count": 13,
   "id": "31793cc2",
   "metadata": {},
   "outputs": [
    {
     "data": {
      "text/plain": [
       "array([[  0,   0,   0,   0,   0,   0,   8, 878],\n",
       "       [  0,   0,   0,   0,   0,   8, 878, 134],\n",
       "       [  0,   0,   0,   0,   8, 878, 134, 351],\n",
       "       [  0,   0,   0,   8, 878, 134, 351, 102],\n",
       "       [  0,   0,   8, 878, 134, 351, 102, 156],\n",
       "       [  0,   8, 878, 134, 351, 102, 156, 199],\n",
       "       [  0,   0,   0,   0,   0,   0,  16,  22],\n",
       "       [  0,   0,   0,   0,   0,  16,  22,   2],\n",
       "       [  0,   0,   0,   0,  16,  22,   2, 879],\n",
       "       [  0,   0,   0,  16,  22,   2, 879,  61],\n",
       "       [  0,   0,  16,  22,   2, 879,  61,  30],\n",
       "       [  0,  16,  22,   2, 879,  61,  30,  48],\n",
       "       [ 16,  22,   2, 879,  61,  30,  48, 634],\n",
       "       [  0,   0,   0,   0,   0,   0,  25, 311],\n",
       "       [  0,   0,   0,   0,   0,  25, 311, 635],\n",
       "       [  0,   0,   0,   0,  25, 311, 635, 102],\n",
       "       [  0,   0,   0,  25, 311, 635, 102, 200],\n",
       "       [  0,   0,  25, 311, 635, 102, 200,  25],\n",
       "       [  0,  25, 311, 635, 102, 200,  25, 278]])"
      ]
     },
     "execution_count": 13,
     "metadata": {},
     "output_type": "execute_result"
    }
   ],
   "source": [
    "# Test your function with the n_grams_seq of the next 3 examples\n",
    "next_3_padded_seq = pad_seqs(next_3_examples_sequence, max([len(s) for s in next_3_examples_sequence]))\n",
    "next_3_padded_seq"
   ]
  },
  {
   "cell_type": "code",
   "execution_count": 14,
   "id": "0d84801b",
   "metadata": {},
   "outputs": [
    {
     "name": "stdout",
     "output_type": "stream",
     "text": [
      "padded corpus has shape: (15462, 11)\n"
     ]
    }
   ],
   "source": [
    "# Pad the whole corpus\n",
    "input_sequences = pad_seqs(input_sequences, max_sequence_len)\n",
    "\n",
    "print(f\"padded corpus has shape: {input_sequences.shape}\")"
   ]
  },
  {
   "cell_type": "markdown",
   "id": "2a0a95b5",
   "metadata": {},
   "source": [
    "\n",
    "# Split the data into features and labels"
   ]
  },
  {
   "cell_type": "code",
   "execution_count": 15,
   "id": "b6bc2eb7",
   "metadata": {},
   "outputs": [],
   "source": [
    "# GRADED FUNCTION: features_and_labels\n",
    "def features_and_labels(input_sequences, total_words):\n",
    "    \"\"\"\n",
    "    Generates features and labels from n-grams\n",
    "    \n",
    "    Args:\n",
    "        input_sequences (list of int): sequences to split features and labels from\n",
    "        total_words (int): vocabulary size\n",
    "    \n",
    "    Returns:\n",
    "        features, one_hot_labels (array of int, array of int): arrays of features and one-hot encoded labels\n",
    "    \"\"\"\n",
    "    features = input_sequences[:,:-1]\n",
    "    labels = input_sequences[:,-1]\n",
    "    one_hot_labels = to_categorical(labels, num_classes=total_words)\n",
    "\n",
    "    return features, one_hot_labels"
   ]
  },
  {
   "cell_type": "code",
   "execution_count": 16,
   "id": "264523ff",
   "metadata": {},
   "outputs": [
    {
     "name": "stdout",
     "output_type": "stream",
     "text": [
      "labels have shape: (5, 3211)\n",
      "\n",
      "features look like this:\n",
      "\n"
     ]
    },
    {
     "data": {
      "text/plain": [
       "array([[  0,   0,   0,  34],\n",
       "       [  0,   0,  34, 417],\n",
       "       [  0,  34, 417, 877],\n",
       "       [ 34, 417, 877, 166],\n",
       "       [417, 877, 166, 213]])"
      ]
     },
     "execution_count": 16,
     "metadata": {},
     "output_type": "execute_result"
    }
   ],
   "source": [
    "# Test your function with the padded n_grams_seq of the first example\n",
    "first_features, first_labels = features_and_labels(first_padded_seq, total_words)\n",
    "\n",
    "print(f\"labels have shape: {first_labels.shape}\")\n",
    "print(\"\\nfeatures look like this:\\n\")\n",
    "first_features"
   ]
  },
  {
   "cell_type": "code",
   "execution_count": 17,
   "id": "d1754c8f",
   "metadata": {},
   "outputs": [
    {
     "name": "stdout",
     "output_type": "stream",
     "text": [
      "features have shape: (15462, 10)\n",
      "labels have shape: (15462, 3211)\n"
     ]
    }
   ],
   "source": [
    "# Split the whole corpus\n",
    "features, labels = features_and_labels(input_sequences, total_words)\n",
    "\n",
    "print(f\"features have shape: {features.shape}\")\n",
    "print(f\"labels have shape: {labels.shape}\")"
   ]
  },
  {
   "cell_type": "markdown",
   "id": "7755c49b",
   "metadata": {},
   "source": [
    "# Create the model"
   ]
  },
  {
   "cell_type": "code",
   "execution_count": 18,
   "id": "305374fa",
   "metadata": {},
   "outputs": [],
   "source": [
    "# GRADED FUNCTION: create_model\n",
    "def create_model(total_words, max_sequence_len):\n",
    "    \"\"\"\n",
    "    Creates a text generator model\n",
    "    \n",
    "    Args:\n",
    "        total_words (int): size of the vocabulary for the Embedding layer input\n",
    "        max_sequence_len (int): length of the input sequences\n",
    "    \n",
    "    Returns:\n",
    "        model (tf.keras Model): the text generator model\n",
    "    \"\"\"\n",
    "    model = Sequential()\n",
    "    model.add(Embedding(total_words, 100, input_length=None))\n",
    "    model.add(Bidirectional(LSTM(150)))\n",
    "    model.add(Dense(total_words, activation='softmax'))\n",
    "\n",
    "\n",
    "    # Compile the model\n",
    "    model.compile(loss='categorical_crossentropy',\n",
    "                  optimizer='adam',\n",
    "                  metrics=['accuracy'])\n",
    "\n",
    "\n",
    "    return model"
   ]
  },
  {
   "cell_type": "code",
   "execution_count": 19,
   "id": "7b75a890",
   "metadata": {},
   "outputs": [
    {
     "name": "stdout",
     "output_type": "stream",
     "text": [
      "Epoch 1/50\n",
      "WARNING:tensorflow:AutoGraph could not transform <function Model.make_train_function.<locals>.train_function at 0x0000020A0C179828> and will run it as-is.\n",
      "Please report this to the TensorFlow team. When filing the bug, set the verbosity to 10 (on Linux, `export AUTOGRAPH_VERBOSITY=10`) and attach the full output.\n",
      "Cause: 'arguments' object has no attribute 'posonlyargs'\n",
      "To silence this warning, decorate the function with @tf.autograph.experimental.do_not_convert\n",
      "WARNING: AutoGraph could not transform <function Model.make_train_function.<locals>.train_function at 0x0000020A0C179828> and will run it as-is.\n",
      "Please report this to the TensorFlow team. When filing the bug, set the verbosity to 10 (on Linux, `export AUTOGRAPH_VERBOSITY=10`) and attach the full output.\n",
      "Cause: 'arguments' object has no attribute 'posonlyargs'\n",
      "To silence this warning, decorate the function with @tf.autograph.experimental.do_not_convert\n",
      "484/484 [==============================] - 19s 10ms/step - loss: 6.8764 - accuracy: 0.0239\n",
      "Epoch 2/50\n",
      "484/484 [==============================] - 5s 9ms/step - loss: 6.4021 - accuracy: 0.0345\n",
      "Epoch 3/50\n",
      "484/484 [==============================] - 5s 9ms/step - loss: 6.1701 - accuracy: 0.0396\n",
      "Epoch 4/50\n",
      "484/484 [==============================] - 5s 10ms/step - loss: 5.9280 - accuracy: 0.0528\n",
      "Epoch 5/50\n",
      "484/484 [==============================] - 5s 9ms/step - loss: 5.6414 - accuracy: 0.0640\n",
      "Epoch 6/50\n",
      "484/484 [==============================] - 5s 9ms/step - loss: 5.2962 - accuracy: 0.0761\n",
      "Epoch 7/50\n",
      "484/484 [==============================] - 5s 10ms/step - loss: 4.9247 - accuracy: 0.0940\n",
      "Epoch 8/50\n",
      "484/484 [==============================] - 5s 9ms/step - loss: 4.5214 - accuracy: 0.1213\n",
      "Epoch 9/50\n",
      "484/484 [==============================] - 5s 9ms/step - loss: 4.1229 - accuracy: 0.1658\n",
      "Epoch 10/50\n",
      "484/484 [==============================] - 5s 9ms/step - loss: 3.7297 - accuracy: 0.2270\n",
      "Epoch 11/50\n",
      "484/484 [==============================] - 5s 9ms/step - loss: 3.3628 - accuracy: 0.2944\n",
      "Epoch 12/50\n",
      "484/484 [==============================] - 5s 9ms/step - loss: 3.0282 - accuracy: 0.3592\n",
      "Epoch 13/50\n",
      "484/484 [==============================] - 5s 10ms/step - loss: 2.7281 - accuracy: 0.4204\n",
      "Epoch 14/50\n",
      "484/484 [==============================] - 5s 10ms/step - loss: 2.4615 - accuracy: 0.4761\n",
      "Epoch 15/50\n",
      "484/484 [==============================] - 5s 10ms/step - loss: 2.2240 - accuracy: 0.5299\n",
      "Epoch 16/50\n",
      "484/484 [==============================] - 5s 10ms/step - loss: 2.0175 - accuracy: 0.5721\n",
      "Epoch 17/50\n",
      "484/484 [==============================] - 5s 10ms/step - loss: 1.8331 - accuracy: 0.6163\n",
      "Epoch 18/50\n",
      "484/484 [==============================] - 5s 10ms/step - loss: 1.6656 - accuracy: 0.6537\n",
      "Epoch 19/50\n",
      "484/484 [==============================] - 5s 10ms/step - loss: 1.5234 - accuracy: 0.6819\n",
      "Epoch 20/50\n",
      "484/484 [==============================] - 5s 10ms/step - loss: 1.3908 - accuracy: 0.7112\n",
      "Epoch 21/50\n",
      "484/484 [==============================] - 5s 9ms/step - loss: 1.2772 - accuracy: 0.7386\n",
      "Epoch 22/50\n",
      "484/484 [==============================] - 5s 9ms/step - loss: 1.1703 - accuracy: 0.7605\n",
      "Epoch 23/50\n",
      "484/484 [==============================] - 5s 10ms/step - loss: 1.0869 - accuracy: 0.7762\n",
      "Epoch 24/50\n",
      "484/484 [==============================] - 5s 9ms/step - loss: 1.0051 - accuracy: 0.7923\n",
      "Epoch 25/50\n",
      "484/484 [==============================] - 5s 10ms/step - loss: 0.9400 - accuracy: 0.8084\n",
      "Epoch 26/50\n",
      "484/484 [==============================] - 5s 10ms/step - loss: 0.8852 - accuracy: 0.8144\n",
      "Epoch 27/50\n",
      "484/484 [==============================] - 5s 10ms/step - loss: 0.8419 - accuracy: 0.8203\n",
      "Epoch 28/50\n",
      "484/484 [==============================] - 5s 10ms/step - loss: 0.7994 - accuracy: 0.8266\n",
      "Epoch 29/50\n",
      "484/484 [==============================] - 5s 10ms/step - loss: 0.7656 - accuracy: 0.8317\n",
      "Epoch 30/50\n",
      "484/484 [==============================] - 5s 10ms/step - loss: 0.7368 - accuracy: 0.8335\n",
      "Epoch 31/50\n",
      "484/484 [==============================] - 4s 9ms/step - loss: 0.7125 - accuracy: 0.8360\n",
      "Epoch 32/50\n",
      "484/484 [==============================] - 5s 9ms/step - loss: 0.6870 - accuracy: 0.8412\n",
      "Epoch 33/50\n",
      "484/484 [==============================] - 5s 10ms/step - loss: 0.6740 - accuracy: 0.8421\n",
      "Epoch 34/50\n",
      "484/484 [==============================] - 5s 9ms/step - loss: 0.6579 - accuracy: 0.8443\n",
      "Epoch 35/50\n",
      "484/484 [==============================] - 5s 10ms/step - loss: 0.6455 - accuracy: 0.8445\n",
      "Epoch 36/50\n",
      "484/484 [==============================] - 5s 10ms/step - loss: 0.6391 - accuracy: 0.8454\n",
      "Epoch 37/50\n",
      "484/484 [==============================] - 5s 9ms/step - loss: 0.6208 - accuracy: 0.8472\n",
      "Epoch 38/50\n",
      "484/484 [==============================] - 5s 10ms/step - loss: 0.6191 - accuracy: 0.8476\n",
      "Epoch 39/50\n",
      "484/484 [==============================] - 5s 10ms/step - loss: 0.6073 - accuracy: 0.8483\n",
      "Epoch 40/50\n",
      "484/484 [==============================] - 5s 10ms/step - loss: 0.6038 - accuracy: 0.8484\n",
      "Epoch 41/50\n",
      "484/484 [==============================] - 5s 9ms/step - loss: 0.5974 - accuracy: 0.8483\n",
      "Epoch 42/50\n",
      "484/484 [==============================] - 5s 10ms/step - loss: 0.5942 - accuracy: 0.8469\n",
      "Epoch 43/50\n",
      "484/484 [==============================] - 5s 10ms/step - loss: 0.5904 - accuracy: 0.8465\n",
      "Epoch 44/50\n",
      "484/484 [==============================] - 5s 9ms/step - loss: 0.5817 - accuracy: 0.8484\n",
      "Epoch 45/50\n",
      "484/484 [==============================] - 5s 10ms/step - loss: 0.5775 - accuracy: 0.8492\n",
      "Epoch 46/50\n",
      "484/484 [==============================] - 5s 10ms/step - loss: 0.5757 - accuracy: 0.8480\n",
      "Epoch 47/50\n",
      "484/484 [==============================] - 5s 10ms/step - loss: 0.5790 - accuracy: 0.8495\n",
      "Epoch 48/50\n",
      "484/484 [==============================] - 5s 9ms/step - loss: 0.5764 - accuracy: 0.8483\n",
      "Epoch 49/50\n",
      "484/484 [==============================] - 5s 9ms/step - loss: 0.5684 - accuracy: 0.8483\n",
      "Epoch 50/50\n",
      "484/484 [==============================] - 5s 9ms/step - loss: 0.5627 - accuracy: 0.8488\n"
     ]
    }
   ],
   "source": [
    "# Get the untrained model\n",
    "model = create_model(total_words, max_sequence_len)\n",
    "\n",
    "# Train the model\n",
    "history = model.fit(features, labels, epochs=50, verbose=1)"
   ]
  },
  {
   "cell_type": "code",
   "execution_count": 20,
   "id": "6178e97f",
   "metadata": {},
   "outputs": [
    {
     "data": {
      "image/png": "[encoded data removed]",
      "text/plain": [
       "<Figure size 432x288 with 1 Axes>"
      ]
     },
     "metadata": {
      "needs_background": "light"
     },
     "output_type": "display_data"
    },
    {
     "data": {
      "image/png": "[encoded data removed]",
      "text/plain": [
       "<Figure size 432x288 with 1 Axes>"
      ]
     },
     "metadata": {
      "needs_background": "light"
     },
     "output_type": "display_data"
    }
   ],
   "source": [
    "# Take a look at the training curves of your model\n",
    "\n",
    "acc = history.history['accuracy']\n",
    "loss = history.history['loss']\n",
    "\n",
    "epochs = range(len(acc))\n",
    "\n",
    "plt.plot(epochs, acc, 'b', label='Training accuracy')\n",
    "plt.title('Training accuracy')\n",
    "\n",
    "plt.figure()\n",
    "\n",
    "plt.plot(epochs, loss, 'b', label='Training Loss')\n",
    "plt.title('Training loss')\n",
    "plt.legend()\n",
    "\n",
    "plt.show()"
   ]
  },
  {
   "cell_type": "markdown",
   "id": "db8a7a06",
   "metadata": {},
   "source": [
    "# Test Model"
   ]
  },
  {
   "cell_type": "code",
   "execution_count": 21,
   "id": "85603208",
   "metadata": {},
   "outputs": [
    {
     "name": "stdout",
     "output_type": "stream",
     "text": [
      "WARNING:tensorflow:AutoGraph could not transform <function Model.make_predict_function.<locals>.predict_function at 0x0000020A69584DC8> and will run it as-is.\n",
      "Please report this to the TensorFlow team. When filing the bug, set the verbosity to 10 (on Linux, `export AUTOGRAPH_VERBOSITY=10`) and attach the full output.\n",
      "Cause: 'arguments' object has no attribute 'posonlyargs'\n",
      "To silence this warning, decorate the function with @tf.autograph.experimental.do_not_convert\n",
      "WARNING: AutoGraph could not transform <function Model.make_predict_function.<locals>.predict_function at 0x0000020A69584DC8> and will run it as-is.\n",
      "Please report this to the TensorFlow team. When filing the bug, set the verbosity to 10 (on Linux, `export AUTOGRAPH_VERBOSITY=10`) and attach the full output.\n",
      "Cause: 'arguments' object has no attribute 'posonlyargs'\n",
      "To silence this warning, decorate the function with @tf.autograph.experimental.do_not_convert\n",
      "Help me Obi Wan Kenobi, you're my only hope be admitted i accuse me dearer lies now it ' tend best more belong those green ' that long leave thee that long calls thee do so ' now love her more free thee more express'd such express'd old near muse muse one can forth heart now seen watery dispraise of thy mind those tomb ' can no spend old sound the glory so near repair say in the sun so treasure you in it untrue end eyes am old granting assured growth of the breath black can lose more dumb grow so fair no treasure you to life can\n"
     ]
    }
   ],
   "source": [
    "seed_text = \"Help me Obi Wan Kenobi, you're my only hope\"\n",
    "next_words = 100\n",
    "  \n",
    "for _ in range(next_words):\n",
    "\t# Convert the text into sequences\n",
    "\ttoken_list = tokenizer.texts_to_sequences([seed_text])[0]\n",
    "\t# Pad the sequences\n",
    "\ttoken_list = pad_sequences([token_list], maxlen=max_sequence_len-1, padding='pre')\n",
    "\t# Get the probabilities of predicting a word\n",
    "\tpredicted = model.predict(token_list, verbose=0)\n",
    "\t# Choose the next word based on the maximum probability\n",
    "\tpredicted = np.argmax(predicted, axis=-1).item()\n",
    "\t# Get the actual word from the word index\n",
    "\toutput_word = tokenizer.index_word[predicted]\n",
    "\t# Append to the current text\n",
    "\tseed_text += \" \" + output_word\n",
    "\n",
    "print(seed_text)"
   ]
  },
  {
   "cell_type": "code",
   "execution_count": null,
   "id": "a69b5a29",
   "metadata": {},
   "outputs": [],
   "source": []
  }
 ],
 "metadata": {
  "kernelspec": {
   "display_name": "Python 3 (ipykernel)",
   "language": "python",
   "name": "python3"
  },
  "language_info": {
   "codemirror_mode": {
    "name": "ipython",
    "version": 3
   },
   "file_extension": ".py",
   "mimetype": "text/x-python",
   "name": "python",
   "nbconvert_exporter": "python",
   "pygments_lexer": "ipython3",
   "version": "3.7.12"
  }
 },
 "nbformat": 4,
 "nbformat_minor": 5
}
